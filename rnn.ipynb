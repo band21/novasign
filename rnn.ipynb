{
 "cells": [
  {
   "cell_type": "code",
   "execution_count": 77,
   "id": "8a8c9d40",
   "metadata": {},
   "outputs": [],
   "source": [
    "import pandas as pd\n",
    "from keras.models import Sequential\n",
    "from keras.layers import Dense, LSTM\n",
    "from sklearn.preprocessing import MinMaxScaler\n",
    "import numpy as np\n",
    "from sklearn.metrics import mean_squared_error"
   ]
  },
  {
   "cell_type": "code",
   "execution_count": 2,
   "id": "93255d96",
   "metadata": {},
   "outputs": [],
   "source": [
    "df_train = pd.read_excel('Train.xlsx')"
   ]
  },
  {
   "cell_type": "code",
   "execution_count": 3,
   "id": "f78776ec",
   "metadata": {},
   "outputs": [],
   "source": [
    "df_test = pd.read_excel('Test.xlsx')"
   ]
  },
  {
   "cell_type": "code",
   "execution_count": 4,
   "id": "3515f12b",
   "metadata": {},
   "outputs": [],
   "source": [
    "def rename_column(x):\n",
    "    return x.split('(')[0].lower()"
   ]
  },
  {
   "cell_type": "code",
   "execution_count": 5,
   "id": "5f6f086f",
   "metadata": {},
   "outputs": [],
   "source": [
    "df_train.columns = [rename_column(x) for x in df_train.columns]"
   ]
  },
  {
   "cell_type": "code",
   "execution_count": 6,
   "id": "b36f0c79",
   "metadata": {},
   "outputs": [],
   "source": [
    "df_test.columns = [rename_column(x) for x in df_test.columns]"
   ]
  },
  {
   "cell_type": "code",
   "execution_count": 7,
   "id": "8a0de332",
   "metadata": {},
   "outputs": [],
   "source": [
    "def data_prep(df):\n",
    "    df.runid = df.runid.replace(-9.999, None).fillna(method='ffill')\n",
    "    df.cdw = df.cdw.replace(-9.999, None).astype('float64').interpolate(method ='linear', limit_direction ='forward')\n",
    "    df.samplingvolume = df.samplingvolume.replace(-9.999, 0)\n",
    "    return df"
   ]
  },
  {
   "cell_type": "code",
   "execution_count": 8,
   "id": "cf8330af",
   "metadata": {},
   "outputs": [],
   "source": [
    "df_train = data_prep(df_train)\n",
    "df_test = data_prep(df_test)"
   ]
  },
  {
   "cell_type": "code",
   "execution_count": 9,
   "id": "3712306e",
   "metadata": {},
   "outputs": [],
   "source": [
    "features = ['temp', 'feed', 'inductormass','inductor', 'base', 'reaktorvolumen', 'samplingvolume']\n",
    "target = 'cdw'"
   ]
  },
  {
   "cell_type": "code",
   "execution_count": 39,
   "id": "73ce61ae",
   "metadata": {},
   "outputs": [
    {
     "data": {
      "text/plain": [
       "MinMaxScaler()"
      ]
     },
     "execution_count": 39,
     "metadata": {},
     "output_type": "execute_result"
    }
   ],
   "source": [
    "scaler_features = MinMaxScaler(feature_range=(0, 1))\n",
    "scaler_features.fit(df_train[features])\n",
    "scaler_target = MinMaxScaler(feature_range=(0, 1))\n",
    "scaler_target.fit(df_train[target].values.reshape(-1, 1))"
   ]
  },
  {
   "cell_type": "code",
   "execution_count": 28,
   "id": "a4780c17",
   "metadata": {},
   "outputs": [],
   "source": [
    "df = df_train[df_train.runid == 58][features + [target]]\n",
    "df.reset_index(drop=True,inplace=True)"
   ]
  },
  {
   "cell_type": "code",
   "execution_count": 29,
   "id": "1b450562",
   "metadata": {},
   "outputs": [],
   "source": [
    "look_back = 10"
   ]
  },
  {
   "cell_type": "code",
   "execution_count": 46,
   "id": "09226899",
   "metadata": {},
   "outputs": [],
   "source": [
    "X = []\n",
    "y = []\n",
    "x_data = df[features]\n",
    "y_data = df[target]\n",
    "y_data = scaler_target.transform(y_data.values.reshape(-1,1))\n",
    "for i in range(look_back, len(df)):\n",
    "    point = df.loc[i-look_back:i][features]\n",
    "    X.append(scaler_features.transform(point))\n",
    "    y.append(y_data[i])"
   ]
  },
  {
   "cell_type": "code",
   "execution_count": 67,
   "id": "6baaa7bc",
   "metadata": {},
   "outputs": [],
   "source": [
    "def transform_data(dataset,features,target, scaler_features, scaler_target, look_back=10):\n",
    "    X = []\n",
    "    y = []\n",
    "    for runid in dataset.runid.unique():\n",
    "        print(runid)\n",
    "        df = dataset[dataset.runid == runid][features + [target]]\n",
    "        df.reset_index(drop=True, inplace=True)\n",
    "        x_data = df[features]\n",
    "        y_data = df[target]\n",
    "        y_data = scaler_target.transform(y_data.values.reshape(-1,1))\n",
    "        for i in range(look_back, len(df)):\n",
    "            point = df.loc[i-look_back:i][features]\n",
    "            X.append(scaler_features.transform(point))\n",
    "            y.append(y_data[i])\n",
    "    return np.array(X), np.array(y)"
   ]
  },
  {
   "cell_type": "code",
   "execution_count": 68,
   "id": "7c2befe5",
   "metadata": {},
   "outputs": [
    {
     "name": "stdout",
     "output_type": "stream",
     "text": [
      "58.0\n",
      "61.0\n",
      "63.0\n",
      "101.0\n",
      "53.0\n",
      "80.0\n",
      "96.0\n"
     ]
    }
   ],
   "source": [
    "X_train, y_train = transform_data(df_train, features,target, scaler_features, scaler_target)"
   ]
  },
  {
   "cell_type": "code",
   "execution_count": 73,
   "id": "6d5f6e56",
   "metadata": {},
   "outputs": [
    {
     "name": "stdout",
     "output_type": "stream",
     "text": [
      "Epoch 1/50\n",
      "2717/2717 - 7s - loss: 0.0032 - 7s/epoch - 3ms/step\n",
      "Epoch 2/50\n",
      "2717/2717 - 6s - loss: 0.0018 - 6s/epoch - 2ms/step\n",
      "Epoch 3/50\n",
      "2717/2717 - 6s - loss: 0.0015 - 6s/epoch - 2ms/step\n",
      "Epoch 4/50\n",
      "2717/2717 - 6s - loss: 0.0014 - 6s/epoch - 2ms/step\n",
      "Epoch 5/50\n",
      "2717/2717 - 6s - loss: 0.0014 - 6s/epoch - 2ms/step\n",
      "Epoch 6/50\n",
      "2717/2717 - 6s - loss: 0.0013 - 6s/epoch - 2ms/step\n",
      "Epoch 7/50\n",
      "2717/2717 - 6s - loss: 0.0013 - 6s/epoch - 2ms/step\n",
      "Epoch 8/50\n",
      "2717/2717 - 6s - loss: 0.0012 - 6s/epoch - 2ms/step\n",
      "Epoch 9/50\n",
      "2717/2717 - 6s - loss: 0.0012 - 6s/epoch - 2ms/step\n",
      "Epoch 10/50\n",
      "2717/2717 - 6s - loss: 0.0012 - 6s/epoch - 2ms/step\n",
      "Epoch 11/50\n",
      "2717/2717 - 6s - loss: 0.0012 - 6s/epoch - 2ms/step\n",
      "Epoch 12/50\n",
      "2717/2717 - 6s - loss: 0.0012 - 6s/epoch - 2ms/step\n",
      "Epoch 13/50\n",
      "2717/2717 - 6s - loss: 0.0012 - 6s/epoch - 2ms/step\n",
      "Epoch 14/50\n",
      "2717/2717 - 6s - loss: 0.0011 - 6s/epoch - 2ms/step\n",
      "Epoch 15/50\n",
      "2717/2717 - 6s - loss: 0.0011 - 6s/epoch - 2ms/step\n",
      "Epoch 16/50\n",
      "2717/2717 - 6s - loss: 0.0012 - 6s/epoch - 2ms/step\n",
      "Epoch 17/50\n",
      "2717/2717 - 6s - loss: 0.0011 - 6s/epoch - 2ms/step\n",
      "Epoch 18/50\n",
      "2717/2717 - 6s - loss: 0.0011 - 6s/epoch - 2ms/step\n",
      "Epoch 19/50\n",
      "2717/2717 - 6s - loss: 0.0011 - 6s/epoch - 2ms/step\n",
      "Epoch 20/50\n",
      "2717/2717 - 6s - loss: 0.0011 - 6s/epoch - 2ms/step\n",
      "Epoch 21/50\n",
      "2717/2717 - 6s - loss: 0.0011 - 6s/epoch - 2ms/step\n",
      "Epoch 22/50\n",
      "2717/2717 - 6s - loss: 0.0011 - 6s/epoch - 2ms/step\n",
      "Epoch 23/50\n",
      "2717/2717 - 6s - loss: 0.0011 - 6s/epoch - 2ms/step\n",
      "Epoch 24/50\n",
      "2717/2717 - 6s - loss: 0.0011 - 6s/epoch - 2ms/step\n",
      "Epoch 25/50\n",
      "2717/2717 - 6s - loss: 0.0011 - 6s/epoch - 2ms/step\n",
      "Epoch 26/50\n",
      "2717/2717 - 6s - loss: 0.0011 - 6s/epoch - 2ms/step\n",
      "Epoch 27/50\n",
      "2717/2717 - 6s - loss: 0.0011 - 6s/epoch - 2ms/step\n",
      "Epoch 28/50\n",
      "2717/2717 - 6s - loss: 0.0011 - 6s/epoch - 2ms/step\n",
      "Epoch 29/50\n",
      "2717/2717 - 6s - loss: 0.0011 - 6s/epoch - 2ms/step\n",
      "Epoch 30/50\n",
      "2717/2717 - 6s - loss: 0.0011 - 6s/epoch - 2ms/step\n",
      "Epoch 31/50\n",
      "2717/2717 - 6s - loss: 0.0011 - 6s/epoch - 2ms/step\n",
      "Epoch 32/50\n",
      "2717/2717 - 6s - loss: 0.0011 - 6s/epoch - 2ms/step\n",
      "Epoch 33/50\n",
      "2717/2717 - 6s - loss: 0.0011 - 6s/epoch - 2ms/step\n",
      "Epoch 34/50\n",
      "2717/2717 - 6s - loss: 0.0011 - 6s/epoch - 2ms/step\n",
      "Epoch 35/50\n",
      "2717/2717 - 6s - loss: 0.0011 - 6s/epoch - 2ms/step\n",
      "Epoch 36/50\n",
      "2717/2717 - 6s - loss: 0.0011 - 6s/epoch - 2ms/step\n",
      "Epoch 37/50\n",
      "2717/2717 - 6s - loss: 0.0011 - 6s/epoch - 2ms/step\n",
      "Epoch 38/50\n",
      "2717/2717 - 6s - loss: 0.0011 - 6s/epoch - 2ms/step\n",
      "Epoch 39/50\n",
      "2717/2717 - 6s - loss: 0.0011 - 6s/epoch - 2ms/step\n",
      "Epoch 40/50\n",
      "2717/2717 - 6s - loss: 0.0011 - 6s/epoch - 2ms/step\n",
      "Epoch 41/50\n",
      "2717/2717 - 6s - loss: 0.0011 - 6s/epoch - 2ms/step\n",
      "Epoch 42/50\n",
      "2717/2717 - 6s - loss: 0.0011 - 6s/epoch - 2ms/step\n",
      "Epoch 43/50\n",
      "2717/2717 - 8s - loss: 0.0011 - 8s/epoch - 3ms/step\n",
      "Epoch 44/50\n",
      "2717/2717 - 7s - loss: 0.0011 - 7s/epoch - 3ms/step\n",
      "Epoch 45/50\n",
      "2717/2717 - 4s - loss: 0.0011 - 4s/epoch - 1ms/step\n",
      "Epoch 46/50\n",
      "2717/2717 - 7s - loss: 0.0011 - 7s/epoch - 2ms/step\n",
      "Epoch 47/50\n",
      "2717/2717 - 6s - loss: 0.0011 - 6s/epoch - 2ms/step\n",
      "Epoch 48/50\n",
      "2717/2717 - 6s - loss: 0.0011 - 6s/epoch - 2ms/step\n",
      "Epoch 49/50\n",
      "2717/2717 - 6s - loss: 0.0011 - 6s/epoch - 2ms/step\n",
      "Epoch 50/50\n",
      "2717/2717 - 6s - loss: 0.0010 - 6s/epoch - 2ms/step\n"
     ]
    },
    {
     "data": {
      "text/plain": [
       "<keras.callbacks.History at 0x22855a83580>"
      ]
     },
     "execution_count": 73,
     "metadata": {},
     "output_type": "execute_result"
    }
   ],
   "source": [
    "model = Sequential()\n",
    "model.add(LSTM(10, input_shape=(X_train.shape[1], X_train.shape[2])))\n",
    "model.add(Dense(1))\n",
    "model.compile(loss='mean_squared_error', optimizer='adam')\n",
    "model.fit(X_train, y_train, epochs=50, batch_size=1, verbose=2)"
   ]
  },
  {
   "cell_type": "code",
   "execution_count": 74,
   "id": "ed4ac403",
   "metadata": {},
   "outputs": [
    {
     "name": "stdout",
     "output_type": "stream",
     "text": [
      "66.0\n",
      "68.0\n"
     ]
    }
   ],
   "source": [
    "X_test, y_test = transform_data(df_test, features,target, scaler_features, scaler_target)"
   ]
  },
  {
   "cell_type": "code",
   "execution_count": 75,
   "id": "37900758",
   "metadata": {},
   "outputs": [
    {
     "name": "stdout",
     "output_type": "stream",
     "text": [
      "26/26 [==============================] - 0s 2ms/step\n"
     ]
    }
   ],
   "source": [
    "y_pred = model.predict(X_test)"
   ]
  },
  {
   "cell_type": "code",
   "execution_count": 78,
   "id": "41af76be",
   "metadata": {},
   "outputs": [
    {
     "data": {
      "text/plain": [
       "0.0020557751234059458"
      ]
     },
     "execution_count": 78,
     "metadata": {},
     "output_type": "execute_result"
    }
   ],
   "source": [
    "mean_squared_error(y_test, y_pred)"
   ]
  },
  {
   "cell_type": "code",
   "execution_count": null,
   "id": "164553e6",
   "metadata": {},
   "outputs": [],
   "source": []
  }
 ],
 "metadata": {
  "kernelspec": {
   "display_name": "Python 3 (ipykernel)",
   "language": "python",
   "name": "python3"
  },
  "language_info": {
   "codemirror_mode": {
    "name": "ipython",
    "version": 3
   },
   "file_extension": ".py",
   "mimetype": "text/x-python",
   "name": "python",
   "nbconvert_exporter": "python",
   "pygments_lexer": "ipython3",
   "version": "3.9.13"
  }
 },
 "nbformat": 4,
 "nbformat_minor": 5
}
